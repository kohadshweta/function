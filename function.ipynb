{
  "nbformat": 4,
  "nbformat_minor": 0,
  "metadata": {
    "colab": {
      "provenance": []
    },
    "kernelspec": {
      "name": "python3",
      "display_name": "Python 3"
    },
    "language_info": {
      "name": "python"
    }
  },
  "cells": [
    {
      "cell_type": "code",
      "execution_count": null,
      "metadata": {
        "id": "_foRnn59kcqr"
      },
      "outputs": [],
      "source": []
    },
    {
      "cell_type": "markdown",
      "source": [
        "# function\n"
      ],
      "metadata": {
        "id": "JldYKi5ykl1P"
      }
    },
    {
      "cell_type": "markdown",
      "source": [
        "1. first question\n",
        "  - asnwer of the first question\n",
        "  "
      ],
      "metadata": {
        "id": "fMBQKkgkkrCg"
      }
    },
    {
      "cell_type": "markdown",
      "source": [
        "# kohad\n",
        "\n"
      ],
      "metadata": {
        "id": "uN4CVqQpluRl"
      }
    },
    {
      "cell_type": "markdown",
      "source": [
        "1. name\n",
        "   - Shweta\n",
        "   "
      ],
      "metadata": {
        "id": "Qw-CA8O-l1Re"
      }
    }
  ]
}